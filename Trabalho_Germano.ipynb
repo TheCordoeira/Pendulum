{
 "cells": [
  {
   "cell_type": "code",
   "execution_count": 1,
   "metadata": {},
   "outputs": [
    {
     "name": "stdout",
     "output_type": "stream",
     "text": [
      "Autovalores:\n",
      "-sqrt(G**2*a*l*m*sin(phi) - 2*G**2*a*sin(phi)/l + g*l*m*cos(phi) - 2*g*cos(phi)/l)\n",
      "sqrt(G**2*a*l*m*sin(phi) - 2*G**2*a*sin(phi)/l + g*l*m*cos(phi) - 2*g*cos(phi)/l)\n",
      "\n",
      "Autovetores:\n",
      "Autovalor: -sqrt(G**2*a*l*m*sin(phi) - 2*G**2*a*sin(phi)/l + g*l*m*cos(phi) - 2*g*cos(phi)/l)\n",
      "Multiplicidade: 1\n",
      "Autovetores:\n",
      "Matrix([[-(-l**2*m + 2)/(l**2*m*sqrt(G**2*a*l*m*sin(phi) - 2*G**2*a*sin(phi)/l + g*l*m*cos(phi) - 2*g*cos(phi)/l))], [1]])\n",
      "Autovalor: sqrt(G**2*a*l*m*sin(phi) - 2*G**2*a*sin(phi)/l + g*l*m*cos(phi) - 2*g*cos(phi)/l)\n",
      "Multiplicidade: 1\n",
      "Autovetores:\n",
      "Matrix([[-(l**2*m - 2)/(l**2*m*sqrt(G**2*a*l*m*sin(phi) - 2*G**2*a*sin(phi)/l + g*l*m*cos(phi) - 2*g*cos(phi)/l))], [1]])\n",
      "\n",
      "Solução do sistema (A * v = lambda * v):\n",
      "{P: 0, X: 0}\n"
     ]
    }
   ],
   "source": [
    "#For solving A v = lambda v - Equation Systems using eingenvalues and eigenvectors\n",
    "\n",
    "import sympy as sp\n",
    "\n",
    "# Symbolic Variables\n",
    "m, l, a, G, g, phi, p = sp.symbols('m l a G g phi p')\n",
    "\n",
    "# Matrix A\n",
    "A = sp.Matrix([\n",
    "    [0, (2 / (m * l**2)) - 1],\n",
    "    [-m * a * l * G**2 * sp.sin(phi) - m * g * l * sp.cos(phi), 0]\n",
    "])\n",
    "\n",
    "# Eingenvalues and Eigenvectors\n",
    "eigenvals = A.eigenvals()\n",
    "eigenvects = A.eigenvects()\n",
    "\n",
    "# Terminal Print\n",
    "print(\"Autovalores:\")\n",
    "for eigenval in eigenvals:\n",
    "    print(eigenval)\n",
    "\n",
    "print(\"\\nAutovetores:\")\n",
    "for eigenvect in eigenvects:\n",
    "    print(\"Autovalor:\", eigenvect[0])\n",
    "    print(\"Multiplicidade:\", eigenvect[1])\n",
    "    print(\"Autovetores:\")\n",
    "    for vect in eigenvect[2]:\n",
    "        print(vect)\n",
    "\n",
    "# Symbolic Solver\n",
    "X, P = sp.symbols('X P')\n",
    "v = sp.Matrix([X, P])\n",
    "solutions = sp.solve(A * v - eigenvals[list(eigenvals.keys())[0]] * v, [X, P])\n",
    "\n",
    "print(\"\\nSolução do sistema (A * v = lambda * v):\")\n",
    "print(solutions)\n"
   ]
  },
  {
   "cell_type": "code",
   "execution_count": null,
   "metadata": {},
   "outputs": [],
   "source": []
  }
 ],
 "metadata": {
  "kernelspec": {
   "display_name": "Python 3",
   "language": "python",
   "name": "python3"
  },
  "language_info": {
   "codemirror_mode": {
    "name": "ipython",
    "version": 3
   },
   "file_extension": ".py",
   "mimetype": "text/x-python",
   "name": "python",
   "nbconvert_exporter": "python",
   "pygments_lexer": "ipython3",
   "version": "3.12.3"
  }
 },
 "nbformat": 4,
 "nbformat_minor": 2
}
